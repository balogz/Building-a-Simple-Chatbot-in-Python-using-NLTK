{
  "cells": [
    {
      "cell_type": "markdown",
      "metadata": {
        "id": "view-in-github",
        "colab_type": "text"
      },
      "source": [
        "<a href=\"https://colab.research.google.com/github/balogz/Building-a-Simple-Chatbot-in-Python-using-NLTK/blob/master/4211assignment2.ipynb\" target=\"_parent\"><img src=\"https://colab.research.google.com/assets/colab-badge.svg\" alt=\"Open In Colab\"/></a>"
      ]
    },
    {
      "cell_type": "code",
      "execution_count": null,
      "metadata": {
        "id": "RVk30MUy3qCL",
        "colab": {
          "base_uri": "https://localhost:8080/",
          "height": 166
        },
        "outputId": "8e275625-6b48-4ee6-bdb7-1948184eec03"
      },
      "outputs": [
        {
          "output_type": "error",
          "ename": "NameError",
          "evalue": "ignored",
          "traceback": [
            "\u001b[0;31m---------------------------------------------------------------------------\u001b[0m",
            "\u001b[0;31mNameError\u001b[0m                                 Traceback (most recent call last)",
            "\u001b[0;32m<ipython-input-17-cce8b75ef308>\u001b[0m in \u001b[0;36m<module>\u001b[0;34m()\u001b[0m\n\u001b[0;32m----> 1\u001b[0;31m \u001b[0msys\u001b[0m\u001b[0;34m.\u001b[0m\u001b[0mpath\u001b[0m\u001b[0;34m.\u001b[0m\u001b[0mappend\u001b[0m\u001b[0;34m(\u001b[0m\u001b[0;34m'/content/gdrive/mypythondirectory'\u001b[0m\u001b[0;34m)\u001b[0m\u001b[0;34m\u001b[0m\u001b[0;34m\u001b[0m\u001b[0m\n\u001b[0m",
            "\u001b[0;31mNameError\u001b[0m: name 'sys' is not defined"
          ]
        }
      ],
      "source": [
        "sys.path.append('/content/gdrive/mypythondirectory')"
      ]
    },
    {
      "cell_type": "code",
      "execution_count": null,
      "metadata": {
        "id": "duanvjrFILKh"
      },
      "outputs": [],
      "source": [
        "### Libraries Import\n",
        "#import sys\n",
        "import pandas as pd\n",
        "import numpy as np\n",
        "import matplotlib.pyplot as plt\n",
        "import tools_4211_2122 as ts\n",
        "from sklearn.metrics import ConfusionMatrixDisplay\n",
        "import matplotlib.pyplot as plt\n",
        "import scipy.optimize"
      ]
    },
    {
      "cell_type": "code",
      "execution_count": null,
      "metadata": {
        "colab": {
          "base_uri": "https://localhost:8080/"
        },
        "id": "NKFzWGg23d4s",
        "outputId": "a4b98160-4d63-4348-c79c-7879c9678742"
      },
      "outputs": [
        {
          "output_type": "stream",
          "name": "stdout",
          "text": [
            "Mounted at /content/drive\n"
          ]
        }
      ],
      "source": [
        "from google.colab import drive\n",
        "drive.mount('/content/drive')"
      ]
    },
    {
      "cell_type": "code",
      "execution_count": null,
      "metadata": {
        "id": "4btuNZef9iF8"
      },
      "outputs": [],
      "source": [
        ""
      ]
    },
    {
      "cell_type": "markdown",
      "metadata": {
        "id": "p1XvxRHiHw7y"
      },
      "source": [
        "# Question 1 (a). - Clustering\n",
        "\n",
        "Confusion matrix for evaluating the clustering algorithm"
      ]
    },
    {
      "cell_type": "code",
      "execution_count": null,
      "metadata": {
        "colab": {
          "base_uri": "https://localhost:8080/",
          "height": 283
        },
        "id": "7lC4o_vJIJc1",
        "outputId": "c684f8f1-d71d-4016-8098-1b1e92e0a7ce"
      },
      "outputs": [
        {
          "output_type": "display_data",
          "data": {
            "image/png": "[encoded data removed]",
            "text/plain": [
              "<Figure size 432x288 with 2 Axes>"
            ]
          },
          "metadata": {
            "needs_background": "light"
          }
        }
      ],
      "source": [
        "Cluster_labels = [1, 2, 2, 1, 1, 1, 3, 2, 2, 1, 3, 3]\n",
        "True_labels = [2, 3, 2, 2, 2, 2, 2, 3, 3, 2, 1, 1]\n",
        "ConfusionMatrixDisplay.from_predictions(True_labels, Cluster_labels)\n",
        "plt.show()\n"
      ]
    },
    {
      "cell_type": "code",
      "execution_count": null,
      "metadata": {
        "id": "in7C15iOwhvy",
        "colab": {
          "base_uri": "https://localhost:8080/"
        },
        "outputId": "eb54126d-2022-49b4-eb3b-8e9bf2c49e45"
      },
      "outputs": [
        {
          "output_type": "stream",
          "name": "stdout",
          "text": [
            "3    114\n",
            "1    102\n",
            "2    100\n",
            "dtype: int64\n"
          ]
        }
      ],
      "source": [
        "df1 = pd.read_csv('/content/drive/MyDrive/DataHOG_PCA20.csv',header=None)\n",
        "df2 = pd.read_csv('/content/drive/MyDrive/DataLBP_PCA20.csv',header=None)\n",
        "df3 = pd.read_csv('/content/drive/MyDrive/DataRGB_PCA20.csv',header=None)\n",
        "lbl = pd.read_csv('/content/drive/MyDrive/Labels.csv',header=None)\n",
        "\n",
        "print(lbl.value_counts())\n",
        "\n",
        "HOG = df1.to_numpy()\n",
        "LBP = df2.to_numpy()\n",
        "RGB = df3.to_numpy()\n",
        "Labels =lbl.to_numpy()\n",
        "\n"
      ]
    },
    {
      "cell_type": "code",
      "execution_count": null,
      "metadata": {
        "id": "cIkt81RTw8MZ"
      },
      "outputs": [],
      "source": [
        "def confusion_matrix(t,a):\n",
        "\n",
        "  ut = np.unique(t)\n",
        "  ul =len(ut)\n",
        "  cm = np.zeros((ul,ul))\n",
        "  for i in range(ul):\n",
        "    for j in range(ul):\n",
        "      cm[i,j] = np.sum((t==ut[i]) & (a==ut[j]))\n",
        "  return cm,ut\n",
        "\n",
        "def label_matcher(t,a):\n",
        "\tfrom scipy.optimize import linear_sum_assignment\n",
        "\tcm,ut = confusion_matrix(t,a)\n",
        "\tri,ci = linear_sum_assignment(-cm) # get optional labels\n",
        "\tna =np.zeros(len(a)) # relabel the assigned\n",
        "\tfor i in range(len(ut)):\n",
        "\t\tna[a==ut[ci[i]]]=ut[ri[i]]\n",
        "\tconf,_ = confusion_matrix(t,na)\n",
        "\treturn np.trace(conf)/np.sum(conf) #accuracy"
      ]
    },
    {
      "cell_type": "code",
      "execution_count": null,
      "metadata": {
        "colab": {
          "base_uri": "https://localhost:8080/"
        },
        "id": "3aS1rbG4w189",
        "outputId": "14d4e5d9-32f6-4f2c-ede6-2dfa81395361"
      },
      "outputs": [
        {
          "output_type": "stream",
          "name": "stdout",
          "text": [
            "[[  0 105]\n",
            " [  1 107]\n",
            " [  2 104]]\n",
            "Kmeans Accuracy of data_HOG = 0.34204211410402546\n"
          ]
        }
      ],
      "source": [
        "from sklearn.cluster import KMeans # \n",
        "my_km = KMeans(n_clusters = 3)\n",
        "my_km.fit(HOG)\n",
        "my_labels_km1 = my_km.labels_ #predicted label\n",
        "#print(my_labels_km1.value_counts())\n",
        "unique, counts = np.unique(my_labels_km1, return_counts=True)\n",
        "print( np.asarray((unique, counts)).T)\n",
        "accuracy = label_matcher(Labels,my_labels_km1)\n",
        "print('Kmeans Accuracy of data_HOG =', accuracy)\n"
      ]
    },
    {
      "cell_type": "code",
      "execution_count": null,
      "metadata": {
        "colab": {
          "base_uri": "https://localhost:8080/"
        },
        "id": "yllYPZ_32wD2",
        "outputId": "e3bd9a7d-3310-4c00-cac9-359c94b20883"
      },
      "outputs": [
        {
          "output_type": "stream",
          "name": "stdout",
          "text": [
            "Kmeans Accuracy of data_LBP = 0.3419496036909973\n"
          ]
        }
      ],
      "source": [
        "my_km.fit(LBP)\n",
        "my_labels_km2 = my_km.labels_\n",
        "accuracy = label_matcher(Labels,my_labels_km2)\n",
        "print('Kmeans Accuracy of data_LBP =', accuracy)\n"
      ]
    },
    {
      "cell_type": "code",
      "execution_count": null,
      "metadata": {
        "colab": {
          "base_uri": "https://localhost:8080/"
        },
        "id": "qmpTjHIE3Og2",
        "outputId": "9dbaa01c-a9dd-4420-ffe3-61d4a5ef672e"
      },
      "outputs": [
        {
          "output_type": "stream",
          "name": "stdout",
          "text": [
            "Kmeans Accuracy of data_RGB = 0.3418612943483687\n"
          ]
        }
      ],
      "source": [
        "my_km.fit(RGB)\n",
        "my_labels_km3 = my_km.labels_\n",
        "accuracy = label_matcher(Labels,my_labels_km3)\n",
        "print('Kmeans Accuracy of data_RGB =', accuracy)\n"
      ]
    },
    {
      "cell_type": "code",
      "execution_count": null,
      "metadata": {
        "colab": {
          "base_uri": "https://localhost:8080/"
        },
        "id": "5XRpni3m3azN",
        "outputId": "ace0587c-25a7-4d08-cee3-7fdb88ac0a31"
      },
      "outputs": [
        {
          "output_type": "stream",
          "name": "stdout",
          "text": [
            "Slinkage Accuracy of data_HOG = 0.34177215189873417\n"
          ]
        }
      ],
      "source": [
        "from sklearn.cluster import AgglomerativeClustering\n",
        "my_sl = AgglomerativeClustering(linkage = 'single',n_clusters = 3)\n",
        "my_sl.fit(HOG)\n",
        "my_labels_sl1 = my_sl.labels_\n",
        "accuracy = label_matcher(Labels,my_labels_sl1)\n",
        "print('Slinkage Accuracy of data_HOG =', accuracy)"
      ]
    },
    {
      "cell_type": "code",
      "execution_count": null,
      "metadata": {
        "colab": {
          "base_uri": "https://localhost:8080/"
        },
        "id": "Zu0_u-Du3tX4",
        "outputId": "5d67f991-a020-4768-9f82-b7634853d1dc"
      },
      "outputs": [
        {
          "output_type": "stream",
          "name": "stdout",
          "text": [
            "Slinkage Accuracy of data_LBP = 0.34177215189873417\n"
          ]
        }
      ],
      "source": [
        "my_sl.fit(LBP)\n",
        "my_labels_sl2 = my_sl.labels_\n",
        "accuracy = label_matcher(Labels,my_labels_sl2)\n",
        "print('Slinkage Accuracy of data_LBP =', accuracy)\n"
      ]
    },
    {
      "cell_type": "code",
      "execution_count": null,
      "metadata": {
        "colab": {
          "base_uri": "https://localhost:8080/"
        },
        "id": "VURP0Iww32v1",
        "outputId": "6214e04f-872f-4ad8-9e81-4b0cd6aaa992"
      },
      "outputs": [
        {
          "output_type": "stream",
          "name": "stdout",
          "text": [
            "Slinkage Accuracy of data_RGB = 0.34177215189873417\n"
          ]
        }
      ],
      "source": [
        "my_sl.fit(RGB)\n",
        "my_labels_sl3 = my_sl.labels_\n",
        "accuracy = label_matcher(Labels,my_labels_sl3)\n",
        "print('Slinkage Accuracy of data_RGB =', accuracy)\n"
      ]
    },
    {
      "cell_type": "code",
      "source": [
        "#T-SNE \n",
        "from sklearn.manifold import TSNE\n",
        "\n",
        "RGB_embedded = TSNE(n_components=2, learning_rate='auto', init='random').fit_transform(RGB) #\n",
        "RGB_embedded.shape\n",
        "\n",
        "plt.figure()\n",
        "plt.subplot(1,2,1)\n",
        "plt.scatter(RGB_embedded[:,0],RGB_embedded[:,1],c = my_labels_sl3,s=15) # TSNE with RGB_true labels\n",
        "plt.title('RGB_True_label')\n",
        "plt.axis('on')\n",
        "plt.grid('equal')\n",
        "\n",
        "plt.subplot(1,2,2)\n",
        "plt.scatter(RGB_embedded[:,0],RGB_embedded[:,1],c = Labels,s=15) # TSNE with RGB_Preidcted labels\n",
        "plt.title('RGB_Predicted_label')\n",
        "plt.axis('on')\n",
        "plt.grid('equal')\n",
        "plt.show()\n",
        "\n",
        "\n",
        "\n"
      ],
      "metadata": {
        "id": "MauKTNIwXH-G",
        "colab": {
          "base_uri": "https://localhost:8080/",
          "height": 281
        },
        "outputId": "8735ac5d-2475-4d71-fdd3-401dddb6aa57"
      },
      "execution_count": null,
      "outputs": [
        {
          "output_type": "display_data",
          "data": {
            "image/png": "[encoded data removed]",
            "text/plain": [
              "<Figure size 432x288 with 2 Axes>"
            ]
          },
          "metadata": {
            "needs_background": "light"
          }
        }
      ]
    },
    {
      "cell_type": "code",
      "source": [
        "feature_set = (1,2,3,4,5,6)\n",
        "\n",
        "def subset_quality(feature_set):\n",
        "    feature_set = np.array(feature_set)\n",
        "    u = np.sum(np.sin(feature_set) + \\\n",
        "\tnp.cos(feature_set))\n",
        "    return u\n",
        "\n",
        "print('feature_set 1 =',subset_quality(1))\n",
        "print('feature_set 2 =',subset_quality(2))\n",
        "print('feature_set 3 =',subset_quality(3))\n",
        "print('feature_set 4 =',subset_quality(4))\n",
        "print('feature_set 5 =',subset_quality(5))\n",
        "print('feature_set 6 =',subset_quality(6))\n",
        "\n",
        "print('The feature selected is feature [1] because it gives the maximum subset_quality')\n",
        "\n",
        "print('Selecting the second features')\n",
        "\n",
        "feature_set = ([1,2],[1,3],[1,4],[1,5],[1,6])\n",
        "print('feature_set 1,2 =',subset_quality([1,2]))\n",
        "print('feature_set 1,3 =',subset_quality([1,3]))\n",
        "print('feature_set 1,4 =',subset_quality([1,4]))\n",
        "print('feature_set 1,5 =',subset_quality([1,5]))\n",
        "print('feature_set 1,6 =',subset_quality([1,6]))\n",
        "\n",
        "\n",
        "\n",
        "print('The feature selected is feature [1,6] because it gives the maximum subset_quality')\n",
        "\n",
        "print('Selecting the 3rd features')\n",
        "\n",
        "feature_set = ([1,6,1],[1,6,2],[1,6,3],[1,6,4],[1,6,5])\n",
        "print('feature_set 1,6,1 =',subset_quality([1,6,1]))\n",
        "print('feature_set 1,6,2 =',subset_quality([1,6,2]))\n",
        "print('feature_set 1,6,3 =',subset_quality([1,6,3]))\n",
        "print('feature_set 1,6,4 =',subset_quality([1,6,4]))\n",
        "print('feature_set 1,6,5 =',subset_quality([1,6,5]))\n",
        "\n",
        "print('The feature selected is feature [1,6,1] because it gives the maximum subset_quality')\n",
        "\n",
        "\n"
      ],
      "metadata": {
        "colab": {
          "base_uri": "https://localhost:8080/"
        },
        "id": "GDiJ-oGTcwW-",
        "outputId": "c8c941f9-6c29-48f9-8f13-b19adb1f74d4"
      },
      "execution_count": null,
      "outputs": [
        {
          "output_type": "stream",
          "name": "stdout",
          "text": [
            "feature_set 1 = 1.3817732906760363\n",
            "feature_set 2 = 0.4931505902785393\n",
            "feature_set 3 = -0.8488724885405782\n",
            "feature_set 4 = -1.4104461161715403\n",
            "feature_set 5 = -0.6752620891999122\n",
            "feature_set 6 = 0.6807547884514401\n",
            "The feature selected is feature [1] because it gives the maximum subset_quality\n",
            "Selecting the second features\n",
            "feature_set 1,2 = 1.8749238809545756\n",
            "feature_set 1,3 = 0.5329008021354581\n",
            "feature_set 1,4 = -0.028672825495503984\n",
            "feature_set 1,5 = 0.7065112014761241\n",
            "feature_set 1,6 = 2.0625280791274765\n",
            "The feature selected is feature [1,6] because it gives the maximum subset_quality\n",
            "Selecting the 3rd features\n",
            "feature_set 1,6,1 = 3.4443013698035125\n",
            "feature_set 1,6,2 = 2.555678669406016\n",
            "feature_set 1,6,3 = 1.2136555905868982\n",
            "feature_set 1,6,4 = 0.6520819629559362\n",
            "feature_set 1,6,5 = 1.3872659899275643\n",
            "The feature selected is feature [1,6,1] because it gives the maximum subset_quality\n"
          ]
        }
      ]
    },
    {
      "cell_type": "code",
      "execution_count": null,
      "metadata": {
        "id": "G73e8XNE_W-4"
      },
      "outputs": [],
      "source": [
        ""
      ]
    },
    {
      "cell_type": "code",
      "source": [
        "print(Labels.shape)"
      ],
      "metadata": {
        "colab": {
          "base_uri": "https://localhost:8080/"
        },
        "id": "DR2j6X2CcG6n",
        "outputId": "c58109e6-9f4c-49b8-b007-bb7fe35056f1"
      },
      "execution_count": null,
      "outputs": [
        {
          "output_type": "stream",
          "name": "stdout",
          "text": [
            "(316, 1)\n"
          ]
        }
      ]
    },
    {
      "cell_type": "code",
      "execution_count": null,
      "metadata": {
        "id": "pVu8s4Le2pK0",
        "colab": {
          "base_uri": "https://localhost:8080/",
          "height": 316
        },
        "outputId": "83a649cc-dced-4f32-9fab-cf7018a0c11a"
      },
      "outputs": [
        {
          "output_type": "stream",
          "name": "stdout",
          "text": [
            "[0 0 1 0 0 0 0 0 0 0]\n"
          ]
        },
        {
          "output_type": "stream",
          "name": "stderr",
          "text": [
            "/usr/local/lib/python3.7/dist-packages/sklearn/neural_network/_multilayer_perceptron.py:1109: DataConversionWarning: A column-vector y was passed when a 1d array was expected. Please change the shape of y to (n_samples, ), for example using ravel().\n",
            "  y = column_or_1d(y, warn=True)\n",
            "/usr/local/lib/python3.7/dist-packages/sklearn/neural_network/_multilayer_perceptron.py:1109: DataConversionWarning: A column-vector y was passed when a 1d array was expected. Please change the shape of y to (n_samples, ), for example using ravel().\n",
            "  y = column_or_1d(y, warn=True)\n",
            "/usr/local/lib/python3.7/dist-packages/sklearn/neural_network/_multilayer_perceptron.py:1109: DataConversionWarning: A column-vector y was passed when a 1d array was expected. Please change the shape of y to (n_samples, ), for example using ravel().\n",
            "  y = column_or_1d(y, warn=True)\n",
            "/usr/local/lib/python3.7/dist-packages/sklearn/neural_network/_multilayer_perceptron.py:1109: DataConversionWarning: A column-vector y was passed when a 1d array was expected. Please change the shape of y to (n_samples, ), for example using ravel().\n",
            "  y = column_or_1d(y, warn=True)\n",
            "/usr/local/lib/python3.7/dist-packages/sklearn/neural_network/_multilayer_perceptron.py:1109: DataConversionWarning: A column-vector y was passed when a 1d array was expected. Please change the shape of y to (n_samples, ), for example using ravel().\n",
            "  y = column_or_1d(y, warn=True)\n"
          ]
        },
        {
          "output_type": "stream",
          "name": "stdout",
          "text": [
            "Hold-out error rate of the HOG  = 0.6686\n"
          ]
        },
        {
          "output_type": "execute_result",
          "data": {
            "application/vnd.google.colaboratory.intrinsic+json": {
              "type": "string"
            },
            "text/plain": [
              "\"\\n\\n#clf1 = MLPClassifier(hidden_layer_sizes =[15,30,50,100,800] , #random_state=1, max_iter=1300).fit(trd1, trl1)\\n\\nassigned_labels = clf1.predict(tsd)\\nerror_rate = np.mean(tsl1 != assigned_labels)\\nprint('Error rate of the HOG  = %.4f' % error_rate)\\n\\nholdout, _, _  = ts.train_test_tree(trd,trl,tsd,tsl)\\nprint('Hold-out error = ',holdout)\\n\\nholdout, _, _  = ts.train_test_tree(trd,trl,tsd,tsl)\\nprint('Hold-out error = ',holdout)\\n\\nresub, _, _  = ts.train_test_tree(HOG,Labels,HOG,Labels)\\nprint('Resubstitution error = ',resub)\\n\\n\""
            ]
          },
          "metadata": {},
          "execution_count": 130
        }
      ],
      "source": [
        "print(my_labels_sl3[110:120])\n",
        "\n",
        "\n",
        "#3B\n",
        "from sklearn.model_selection import train_test_split\n",
        "trd, tsd, trl, tsl = train_test_split(HOG, Labels, test_size = 0.5)\n",
        "\n",
        "\n",
        "    \n",
        "from sklearn.neural_network import MLPClassifier\n",
        "hidden_layer_sizes =[15,30,50,100,800]\n",
        "for i in range (len(hidden_layer_sizes)):\n",
        "    clf = MLPClassifier(hidden_layer_sizes[i] , \\\n",
        "    random_state=1, max_iter=1300).fit(trd, trl)\n",
        "\n",
        "    assigned_labels = clf.predict(tsd)\n",
        "    error_rate = np.mean(tsl != assigned_labels)\n",
        "print('Hold-out error rate of the HOG  = %.4f' % error_rate)\n",
        "\n",
        "\n",
        "\n",
        "\n",
        "'''\n",
        "\n",
        "#clf1 = MLPClassifier(hidden_layer_sizes =[15,30,50,100,800] , \\\n",
        "#random_state=1, max_iter=1300).fit(trd1, trl1)\n",
        "\n",
        "assigned_labels = clf1.predict(tsd)\n",
        "error_rate = np.mean(tsl1 != assigned_labels)\n",
        "print('Error rate of the HOG  = %.4f' % error_rate)\n",
        "\n",
        "holdout, _, _  = ts.train_test_tree(trd,trl,tsd,tsl)\n",
        "print('Hold-out error = ',holdout)\n",
        "\n",
        "holdout, _, _  = ts.train_test_tree(trd,trl,tsd,tsl)\n",
        "print('Hold-out error = ',holdout)\n",
        "\n",
        "resub, _, _  = ts.train_test_tree(HOG,Labels,HOG,Labels)\n",
        "print('Resubstitution error = ',resub)\n",
        "\n",
        "'''\n"
      ]
    },
    {
      "cell_type": "code",
      "source": [
        "import numpy as np\n",
        "subset_quality([1, 6, 2])"
      ],
      "metadata": {
        "colab": {
          "base_uri": "https://localhost:8080/"
        },
        "id": "65iVTZ_KRTc3",
        "outputId": "de99f6d9-4cfd-4b04-b784-f01e90f3454b"
      },
      "execution_count": null,
      "outputs": [
        {
          "output_type": "execute_result",
          "data": {
            "text/plain": [
              "2.555678669406016"
            ]
          },
          "metadata": {},
          "execution_count": 25
        }
      ]
    },
    {
      "cell_type": "code",
      "source": [
        ""
      ],
      "metadata": {
        "id": "qxkUDd--RXEj"
      },
      "execution_count": null,
      "outputs": []
    },
    {
      "cell_type": "markdown",
      "source": [
        "Carry out a study on an MLP classifier using the HOG data and the RGB data from Problem 1b.\n",
        "To run the classifier, you can use:\n",
        "from sklearn.neural_network import MLPClassifier clf = MLPClassifier(hidden_layer_sizes = XXX, \\\n",
        "random_state=1, max_iter=1300).fit(hog, Labels)\n",
        "Calculate the resubstitution error and the hold-out error for number of neurons at the (single) hidden layer: [15,30,50,100,800]. Present the results in your report and give a comment.\n",
        "Expected in the report: Good presentation of results. [18]\n",
        "Comment – for both data sets, larger NN leads to better accuracy. HOG features are a lot better than RGB features"
      ],
      "metadata": {
        "id": "_QQvR41kS573"
      }
    },
    {
      "cell_type": "code",
      "source": [
        "def train_test_MLP(training_data,training_labels, \\\n",
        "                        testing_data,testing_labels, hl):\n",
        "    \"\"\"\n",
        "    Trains and tests a MLP classifier.\n",
        "    Returns the classification error, the predicted labels and the classifier.\n",
        "    \"\"\"\n",
        "    cla = MLPClassifier(hidden_layer_sizes = hl, random_state=1, max_iter=1300)\n",
        "    # Train the classifier with data and labels\n",
        "    cla.fit(training_data, training_labels)\n",
        "    assigned_labels = cla.predict(testing_data)\n",
        "    testing_error = np.mean(testing_labels != assigned_labels)\n",
        "    #assigned_labels_Tr = cla.predict(testing_data)\n",
        "    #training_error = np.mean(training_labels != assigned_labels_Tr )\n",
        "    #return testing_error, training_error\n",
        "    #return testing_error\n",
        "    return testing_error, assigned_labels, cla"
      ],
      "metadata": {
        "id": "OqBGaD1tatEi"
      },
      "execution_count": null,
      "outputs": []
    },
    {
      "cell_type": "markdown",
      "source": [
        "## Question 3b"
      ],
      "metadata": {
        "id": "WBVWUgf9fnvl"
      }
    },
    {
      "cell_type": "markdown",
      "source": [
        "### Initialisation and Loading"
      ],
      "metadata": {
        "id": "Zv013eF1ffIO"
      }
    },
    {
      "cell_type": "code",
      "source": [
        "from sklearn.neural_network import MLPClassifier\n",
        "from sklearn.model_selection import train_test_split\n",
        "from sklearn.metrics import mean_squared_error\n",
        "import matplotlib.pyplot as plt\n",
        "\n",
        "HOG = df1.to_numpy()\n",
        "RGB = df3.to_numpy()\n"
      ],
      "metadata": {
        "id": "pBbTPsrCS60X"
      },
      "execution_count": null,
      "outputs": []
    },
    {
      "cell_type": "markdown",
      "source": [
        "### Train HOG"
      ],
      "metadata": {
        "id": "jqLITI-cgQQN"
      }
    },
    {
      "cell_type": "code",
      "source": [
        "HL = [15,30,50,100,800]\n",
        "\n",
        "X_train, X_test, y_train, y_test = train_test_split(HOG, Labels, test_size = 0.3)\n",
        "#rsltTr = []\n",
        "#rsltTs = []\n",
        "for hl in HL:\n",
        "  #testEr, trainEr = train_test_MLP(X_train, y_train, X_test, y_test, hl)\n",
        "  holdout,_,_ = train_test_MLP(X_train, y_train, X_test, y_test, hl)\n",
        "  #rsltTr.append(round(trainEr, 2)) \n",
        "  #rsltTs.append(round(testEr, 2))\n",
        "print(holdout)\n",
        "\n",
        "#fig = plt.figure()\n",
        "#ax = plt.axes()\n",
        "\n",
        "#ax.plot(rsltTr);\n",
        "#ax.plot(rsltTs);"
      ],
      "metadata": {
        "colab": {
          "base_uri": "https://localhost:8080/"
        },
        "id": "P979t4seKc67",
        "outputId": "e0deb81f-b268-48dc-9a6b-aa0221e6dcbd"
      },
      "execution_count": null,
      "outputs": [
        {
          "output_type": "stream",
          "name": "stderr",
          "text": [
            "/usr/local/lib/python3.7/dist-packages/sklearn/neural_network/_multilayer_perceptron.py:1109: DataConversionWarning: A column-vector y was passed when a 1d array was expected. Please change the shape of y to (n_samples, ), for example using ravel().\n",
            "  y = column_or_1d(y, warn=True)\n",
            "/usr/local/lib/python3.7/dist-packages/sklearn/neural_network/_multilayer_perceptron.py:1109: DataConversionWarning: A column-vector y was passed when a 1d array was expected. Please change the shape of y to (n_samples, ), for example using ravel().\n",
            "  y = column_or_1d(y, warn=True)\n",
            "/usr/local/lib/python3.7/dist-packages/sklearn/neural_network/_multilayer_perceptron.py:1109: DataConversionWarning: A column-vector y was passed when a 1d array was expected. Please change the shape of y to (n_samples, ), for example using ravel().\n",
            "  y = column_or_1d(y, warn=True)\n",
            "/usr/local/lib/python3.7/dist-packages/sklearn/neural_network/_multilayer_perceptron.py:1109: DataConversionWarning: A column-vector y was passed when a 1d array was expected. Please change the shape of y to (n_samples, ), for example using ravel().\n",
            "  y = column_or_1d(y, warn=True)\n",
            "/usr/local/lib/python3.7/dist-packages/sklearn/neural_network/_multilayer_perceptron.py:1109: DataConversionWarning: A column-vector y was passed when a 1d array was expected. Please change the shape of y to (n_samples, ), for example using ravel().\n",
            "  y = column_or_1d(y, warn=True)\n"
          ]
        },
        {
          "output_type": "stream",
          "name": "stdout",
          "text": [
            "0.6591689750692521\n"
          ]
        }
      ]
    },
    {
      "cell_type": "markdown",
      "source": [
        "## Train RGB"
      ],
      "metadata": {
        "id": "ZNhbvi-_gUkj"
      }
    },
    {
      "cell_type": "code",
      "source": [
        "def train_test_MLP(training_data,training_labels, \\\n",
        "                        testing_data,testing_labels, hl):\n",
        "    \"\"\"\n",
        "    Trains and tests a MLP classifier.\n",
        "    Returns the classification error, the predicted labels and the classifier.\n",
        "    \"\"\"\n",
        "    cla = MLPClassifier(hidden_layer_sizes = hl, random_state=1, max_iter=1300)\n",
        "    # Train the classifier with data and labels\n",
        "    cla.fit(training_data, training_labels)\n",
        "    assigned_labels = cla.predict(testing_data)\n",
        "    testing_error = np.mean(testing_labels != assigned_labels)\n",
        "    return testing_error, assigned_labels, cla"
      ],
      "metadata": {
        "id": "iY5HRvGKTSBJ"
      },
      "execution_count": null,
      "outputs": []
    },
    {
      "cell_type": "code",
      "source": [
        "from sklearn.neural_network import MLPClassifier\n",
        "from sklearn.model_selection import train_test_split\n",
        "from sklearn.metrics import mean_squared_error\n",
        "import matplotlib.pyplot as plt\n",
        "\n",
        "HOG = df1.to_numpy()\n",
        "RGB = df3.to_numpy()"
      ],
      "metadata": {
        "id": "-0Jw-n2xmfiH"
      },
      "execution_count": null,
      "outputs": []
    },
    {
      "cell_type": "markdown",
      "source": [
        "resub errro for RGB"
      ],
      "metadata": {
        "id": "6_QaSI73nJi-"
      }
    },
    {
      "cell_type": "markdown",
      "source": [
        ""
      ],
      "metadata": {
        "id": "Yl0okUN1nJew"
      }
    },
    {
      "cell_type": "code",
      "source": [
        "HL = [15,30,50,100,800]\n",
        "\n",
        "X_train, X_test, y_train, y_test = train_test_split(RGB, Labels, test_size = 0.5)\n",
        "for hl in HL:\n",
        "  holdout,_,_ = train_test_MLP(X_train, y_train, X_test, y_test, hl)\n",
        "print('holdout error',holdout) \n",
        "\n",
        "resub, _, _  = train_test_MLP(RGB,Labels,RGB,Labels,hl)\n",
        "print('resub error = ',resub)"
      ],
      "metadata": {
        "colab": {
          "base_uri": "https://localhost:8080/"
        },
        "id": "rMHDTEN6mflC",
        "outputId": "6df86667-80e1-40d2-f15e-7b9ea1f7dafb"
      },
      "execution_count": null,
      "outputs": [
        {
          "output_type": "stream",
          "name": "stderr",
          "text": [
            "/usr/local/lib/python3.7/dist-packages/sklearn/neural_network/_multilayer_perceptron.py:1109: DataConversionWarning: A column-vector y was passed when a 1d array was expected. Please change the shape of y to (n_samples, ), for example using ravel().\n",
            "  y = column_or_1d(y, warn=True)\n",
            "/usr/local/lib/python3.7/dist-packages/sklearn/neural_network/_multilayer_perceptron.py:1109: DataConversionWarning: A column-vector y was passed when a 1d array was expected. Please change the shape of y to (n_samples, ), for example using ravel().\n",
            "  y = column_or_1d(y, warn=True)\n",
            "/usr/local/lib/python3.7/dist-packages/sklearn/neural_network/_multilayer_perceptron.py:1109: DataConversionWarning: A column-vector y was passed when a 1d array was expected. Please change the shape of y to (n_samples, ), for example using ravel().\n",
            "  y = column_or_1d(y, warn=True)\n",
            "/usr/local/lib/python3.7/dist-packages/sklearn/neural_network/_multilayer_perceptron.py:1109: DataConversionWarning: A column-vector y was passed when a 1d array was expected. Please change the shape of y to (n_samples, ), for example using ravel().\n",
            "  y = column_or_1d(y, warn=True)\n",
            "/usr/local/lib/python3.7/dist-packages/sklearn/neural_network/_multilayer_perceptron.py:1109: DataConversionWarning: A column-vector y was passed when a 1d array was expected. Please change the shape of y to (n_samples, ), for example using ravel().\n",
            "  y = column_or_1d(y, warn=True)\n"
          ]
        },
        {
          "output_type": "stream",
          "name": "stdout",
          "text": [
            "holdout error 0.6660390962986701\n"
          ]
        },
        {
          "output_type": "stream",
          "name": "stderr",
          "text": [
            "/usr/local/lib/python3.7/dist-packages/sklearn/neural_network/_multilayer_perceptron.py:1109: DataConversionWarning: A column-vector y was passed when a 1d array was expected. Please change the shape of y to (n_samples, ), for example using ravel().\n",
            "  y = column_or_1d(y, warn=True)\n"
          ]
        },
        {
          "output_type": "stream",
          "name": "stdout",
          "text": [
            "resub error =  0.6655183464188431\n"
          ]
        }
      ]
    },
    {
      "cell_type": "code",
      "source": [
        "HL = [15,30,50,100,800]\n",
        "\n",
        "X_train1, X_test1, y_train1, y_test1 = train_test_split(HOG, Labels, test_size = 0.5)\n",
        "for hl in HL:\n",
        "  holdout,_,_ = train_test_MLP(X_train1, y_train1, X_test1, y_test1, hl)\n",
        "print('holdout error',holdout) \n",
        "\n",
        "resub, _, _  = train_test_MLP(HOG,Labels,HOG,Labels,hl)\n",
        "print('resub error HOG = ',resub)"
      ],
      "metadata": {
        "colab": {
          "base_uri": "https://localhost:8080/"
        },
        "id": "PHMNs90OoXgQ",
        "outputId": "c4e2ee26-5db5-4fa9-883c-05ee87775b79"
      },
      "execution_count": null,
      "outputs": [
        {
          "output_type": "stream",
          "name": "stderr",
          "text": [
            "/usr/local/lib/python3.7/dist-packages/sklearn/neural_network/_multilayer_perceptron.py:1109: DataConversionWarning: A column-vector y was passed when a 1d array was expected. Please change the shape of y to (n_samples, ), for example using ravel().\n",
            "  y = column_or_1d(y, warn=True)\n",
            "/usr/local/lib/python3.7/dist-packages/sklearn/neural_network/_multilayer_perceptron.py:1109: DataConversionWarning: A column-vector y was passed when a 1d array was expected. Please change the shape of y to (n_samples, ), for example using ravel().\n",
            "  y = column_or_1d(y, warn=True)\n",
            "/usr/local/lib/python3.7/dist-packages/sklearn/neural_network/_multilayer_perceptron.py:1109: DataConversionWarning: A column-vector y was passed when a 1d array was expected. Please change the shape of y to (n_samples, ), for example using ravel().\n",
            "  y = column_or_1d(y, warn=True)\n",
            "/usr/local/lib/python3.7/dist-packages/sklearn/neural_network/_multilayer_perceptron.py:1109: DataConversionWarning: A column-vector y was passed when a 1d array was expected. Please change the shape of y to (n_samples, ), for example using ravel().\n",
            "  y = column_or_1d(y, warn=True)\n",
            "/usr/local/lib/python3.7/dist-packages/sklearn/neural_network/_multilayer_perceptron.py:1109: DataConversionWarning: A column-vector y was passed when a 1d array was expected. Please change the shape of y to (n_samples, ), for example using ravel().\n",
            "  y = column_or_1d(y, warn=True)\n"
          ]
        },
        {
          "output_type": "stream",
          "name": "stdout",
          "text": [
            "holdout error 0.6673609998397693\n"
          ]
        },
        {
          "output_type": "stream",
          "name": "stderr",
          "text": [
            "/usr/local/lib/python3.7/dist-packages/sklearn/neural_network/_multilayer_perceptron.py:1109: DataConversionWarning: A column-vector y was passed when a 1d array was expected. Please change the shape of y to (n_samples, ), for example using ravel().\n",
            "  y = column_or_1d(y, warn=True)\n"
          ]
        },
        {
          "output_type": "stream",
          "name": "stdout",
          "text": [
            "resub error HOG =  0.6655183464188431\n"
          ]
        }
      ]
    }
  ],
  "metadata": {
    "colab": {
      "collapsed_sections": [],
      "name": "4211assignment2.ipynb",
      "provenance": [],
      "include_colab_link": true
    },
    "kernelspec": {
      "display_name": "Python 3",
      "name": "python3"
    },
    "language_info": {
      "name": "python"
    }
  },
  "nbformat": 4,
  "nbformat_minor": 0
}